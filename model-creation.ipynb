{
 "cells": [
  {
   "cell_type": "markdown",
   "id": "41e7de55",
   "metadata": {},
   "source": [
    "# Model Creation For Crowd Couter"
   ]
  },
  {
   "cell_type": "markdown",
   "id": "5366899d",
   "metadata": {},
   "source": [
    "In this notebook I'm about to create a model for crowd counter model based on object detection.\n",
    "[Link to dataset](https://www.kaggle.com/datasets/constantinwerner/human-detection-dataset)"
   ]
  },
  {
   "cell_type": "code",
   "execution_count": 22,
   "id": "7369d408",
   "metadata": {},
   "outputs": [],
   "source": [
    "import tensorflow as tf\n",
    "import matplotlib.pyplot as plt\n",
    "from tensorflow.keras.preprocessing.image import ImageDataGenerator"
   ]
  },
  {
   "cell_type": "markdown",
   "id": "6ec6d437",
   "metadata": {},
   "source": [
    "## Data preparation"
   ]
  },
  {
   "cell_type": "code",
   "execution_count": null,
   "id": "c2a3308b",
   "metadata": {},
   "outputs": [],
   "source": []
  },
  {
   "cell_type": "code",
   "execution_count": 16,
   "id": "066314ec",
   "metadata": {},
   "outputs": [
    {
     "name": "stdout",
     "output_type": "stream",
     "text": [
      "Found 921 images belonging to 2 classes.\n"
     ]
    }
   ],
   "source": [
    "# preprocessing (generating) data\n",
    "datagen_v1 = ImageDataGenerator(rescale=1./255,\n",
    "                                rotation_range=20,\n",
    "                                width_shift_range=0.1,\n",
    "                                height_shift_range=0.1,\n",
    "                                horizontal_flip=True,\n",
    "                                validation_split=0.2)\n",
    "\n",
    "# seed for further reproduction\n",
    "tf.random.set_seed(13)\n",
    "\n",
    "# set path to images\n",
    "dir = \"human-detection-dataset/\"\n",
    "\n",
    "# import data from <dir> and turn it into batches\n",
    "data = datagen_v1.flow_from_directory(directory=dir,\n",
    "                                      batch_size=32,\n",
    "                                      target_size=(256,256),\n",
    "                                      class_mode=\"binary\",\n",
    "                                      seed=13)"
   ]
  },
  {
   "cell_type": "code",
   "execution_count": 26,
   "id": "bab7c28a",
   "metadata": {},
   "outputs": [
    {
     "data": {
      "text/plain": [
       "<keras.preprocessing.image.DirectoryIterator at 0x18565e9f490>"
      ]
     },
     "execution_count": 26,
     "metadata": {},
     "output_type": "execute_result"
    }
   ],
   "source": [
    "data"
   ]
  },
  {
   "cell_type": "code",
   "execution_count": null,
   "id": "78852fc4",
   "metadata": {},
   "outputs": [],
   "source": []
  },
  {
   "cell_type": "code",
   "execution_count": null,
   "id": "6138396d",
   "metadata": {},
   "outputs": [],
   "source": []
  },
  {
   "cell_type": "code",
   "execution_count": null,
   "id": "65b0e9f4",
   "metadata": {},
   "outputs": [],
   "source": []
  },
  {
   "cell_type": "code",
   "execution_count": null,
   "id": "66a04511",
   "metadata": {},
   "outputs": [],
   "source": []
  },
  {
   "cell_type": "code",
   "execution_count": null,
   "id": "b5e4a1b5",
   "metadata": {},
   "outputs": [],
   "source": []
  },
  {
   "cell_type": "code",
   "execution_count": null,
   "id": "18d7735a",
   "metadata": {},
   "outputs": [],
   "source": []
  },
  {
   "cell_type": "code",
   "execution_count": null,
   "id": "325aac50",
   "metadata": {},
   "outputs": [],
   "source": []
  },
  {
   "cell_type": "markdown",
   "id": "711c54bf",
   "metadata": {},
   "source": [
    "## Classification model"
   ]
  }
 ],
 "metadata": {
  "celltoolbar": "Raw Cell Format",
  "kernelspec": {
   "display_name": "Python 3 (ipykernel)",
   "language": "python",
   "name": "python3"
  },
  "language_info": {
   "codemirror_mode": {
    "name": "ipython",
    "version": 3
   },
   "file_extension": ".py",
   "mimetype": "text/x-python",
   "name": "python",
   "nbconvert_exporter": "python",
   "pygments_lexer": "ipython3",
   "version": "3.9.12"
  }
 },
 "nbformat": 4,
 "nbformat_minor": 5
}
